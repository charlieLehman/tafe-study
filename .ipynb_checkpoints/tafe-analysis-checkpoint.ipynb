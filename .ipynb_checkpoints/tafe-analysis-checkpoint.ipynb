{
 "cells": [
  {
   "cell_type": "code",
   "execution_count": 4,
   "metadata": {
    "autoscroll": false,
    "collapsed": false,
    "ein.hycell": false,
    "ein.tags": "worksheet-0",
    "slideshow": {
     "slide_type": "-"
    }
   },
   "outputs": [
    {
     "data": {
      "text/plain": [
       "      Record ID   T1   T2   T3   T4   T5   T6   T7   T8   T9 ...   T21  T22  \\\n0  6.341330e+17  1.0  1.0  1.0  0.0  1.0  1.0  1.0  1.0  1.0 ...   1.0  1.0   \n1  6.341340e+17  1.0  1.0  1.0  1.0  1.0  2.0  2.0  1.0  2.0 ...   1.0  1.0   \n2  6.341390e+17  1.0  1.0  1.0  1.0  1.0  1.0  2.0  1.0  1.0 ...   1.0  1.0   \n3  6.341400e+17  1.0  1.0  1.0  1.0  1.0  1.0  1.0  1.0  1.0 ...   2.0  2.0   \n4  6.341470e+17  1.0  1.0  2.0  1.0  2.0  2.0  2.0  2.0  1.0 ...   2.0  2.0   \n\n   T23  T24  T25  T26  T27  T28  T29  T30  \n0  1.0  1.0  1.0  1.0  1.0  0.0  1.0  1.0  \n1  1.0  2.0  1.0  2.0  2.0  1.0  1.0  2.0  \n2  1.0  1.0  1.0  1.0  1.0  1.0  1.0  1.0  \n3  2.0  2.0  2.0  2.0  2.0  2.0  2.0  2.0  \n4  2.0  2.0  2.0  2.0  2.0  2.0  2.0  2.0  \n\n[5 rows x 31 columns]"
      ]
     },
     "execution_count": 4,
     "metadata": {},
     "output_type": "execute_result"
    }
   ],
   "source": [
    "import numpy as np\n",
    "import pandas as pd\n",
    "\n",
    "df = pd.read_csv('tafe-questions.csv')\n",
    "\n",
    "df.head()"
   ]
  },
  {
   "cell_type": "code",
   "execution_count": 14,
   "metadata": {
    "autoscroll": false,
    "collapsed": false,
    "ein.hycell": false,
    "ein.tags": "worksheet-0",
    "slideshow": {
     "slide_type": "-"
    }
   },
   "outputs": [
    {
     "name": "stdout",
     "output_type": "stream",
     "text": [
      "(521, 30)\n"
     ]
    }
   ],
   "source": [
    "m = df.dropna().values[:,1:]\n",
    "print(m.shape)"
   ]
  },
  {
   "cell_type": "code",
   "execution_count": 36,
   "metadata": {
    "autoscroll": false,
    "collapsed": false,
    "ein.hycell": false,
    "ein.tags": "worksheet-0",
    "slideshow": {
     "slide_type": "-"
    }
   },
   "outputs": [
    {
     "data": {
      "text/plain": [
       "<xarray.Image (y: 400, x: 400)>\narray([[4278190080, 4278190080, 4278190080, ..., 4278190080, 4278190080,\n        4278190080],\n       [4278190080, 4278190080, 4278190080, ..., 4278190080, 4278190080,\n        4278190080],\n       [4278190080, 4278190080, 4278190080, ..., 4278190080, 4278190080,\n        4278190080],\n       ...,\n       [4278190080, 4278190080, 4278190080, ..., 4278190080, 4278190080,\n        4278190080],\n       [4278190080, 4278190080, 4278190080, ..., 4278190080, 4278190080,\n        4278190080],\n       [4278190080, 4278190080, 4278190080, ..., 4278190080, 4278190080,\n        4278190080]], dtype=uint32)\nCoordinates:\n  * y        (y) float64 7.347 7.365 7.384 7.402 7.421 7.44 7.458 7.477 ...\n  * x        (x) float64 -20.54 -20.43 -20.31 -20.2 -20.09 -19.98 -19.86 ..."
      ]
     },
     "execution_count": 36,
     "metadata": {},
     "output_type": "execute_result",
     "png": "[encoded data removed]"
    }
   ],
   "source": [
    "import umap\n",
    "import datashader as ds\n",
    "import datashader.transfer_functions as tf\n",
    "from functools import partial\n",
    "from datashader.utils import export_image\n",
    "from datashader.colors import colormap_select, Greys9\n",
    "\n",
    "background = \"black\"\n",
    "export = partial(export_image, background = background, export_path=\"export\")\n",
    "cm = partial(colormap_select, reverse=(background!=\"black\"))\n",
    "\n",
    "reducer = umap.UMAP()\n",
    "embedding = reducer.fit_transform(m)\n",
    "\n",
    "emb_data = {'x':embedding[:,0], 'y':embedding[:,1]}\n",
    "emb_df = pd.DataFrame(emb_data)\n",
    "\n",
    "cvs = ds.Canvas(plot_width=400, plot_height=400)\n",
    "agg = cvs.points(emb_df, 'x', 'y')\n",
    "from colorcet import fire\n",
    "img = tf.shade(agg, cmap = cm(fire,0.1), how='log')\n",
    "export(tf.spread(img, px=1),\"census_ds_fire_eq_hist\")\n"
   ]
  },
  {
   "cell_type": "code",
   "execution_count": 39,
   "metadata": {
    "autoscroll": false,
    "collapsed": false,
    "ein.hycell": false,
    "ein.tags": "worksheet-0",
    "slideshow": {
     "slide_type": "-"
    }
   },
   "outputs": [
    {
     "name": "stdout",
     "output_type": "stream",
     "text": [
      "[1 1 1 1 0 0 1 0 0 1 1 1 1 1 1 1 1 1 1 1 1 1 1 0 1 1 1 1 1 0 1 1 1 1 1 0 1\n",
      " 1 1 0 1 1 1 0 1 1 1 1 1 1 1 1 1 1 1 1 1 1 1 1 1 1 1 1 1 1 1 1 1 1 1 1 1 1\n",
      " 1 1 1 1 1 1 1 1 1 1 1 1 1 1 0 1 1 1 1 1 1 1 1 1 1 0 0 1 1 1 1 1 1 1 1 1 1\n",
      " 1 1 1 1 1 1 0 1 1 1 1 1 1 1 1 0 1 1 1 1 1 1 1 1 1 1 1 1 1 1 1 1 1 1 0 1 1\n",
      " 1 1 1 1 1 1 1 1 1 1 1 0 1 1 1 1 1 1 1 0 1 1 0 1 1 0 1 1 1 1 1 0 1 1 1 1 1\n",
      " 1 1 1 1 1 0 0 1 1 1 1 1 1 1 0 1 1 1 1 1 1 1 1 1 1 1 1 1 1 1 1 1 1 1 1 1 1\n",
      " 1 1 0 0 1 1 1 1 1 1 1 1 1 1 1 1 1 1 1 1 1 1 1 1 1 1 1 1 1 1 1 1 1 1 1 1 1\n",
      " 1 1 1 1 1 0 1 1 1 1 1 1 1 1 1 0 1 1 1 1 0 1 1 1 0 1 1 1 1 1 1 1 1 1 1 1 1\n",
      " 1 1 1 1 1 1 1 1 1 1 1 1 1 1 0 1 1 1 1 1 1 1 1 1 0 1 1 1 1 1 1 1 1 1 1 0 1\n",
      " 1 1 1 1 1 1 0 1 1 0 1 1 1 1 1 1 1 1 1 1 1 1 1 1 1 1 1 1 1 0 1 1 1 1 1 1 0\n",
      " 1 0 1 0 1 1 1 1 1 1 0 1 1 1 1 1 1 1 1 1 1 1 1 1 1 0 1 1 1 1 1 1 1 1 1 1 0\n",
      " 1 1 1 1 1 1 1 1 0 1 1 1 1 1 1 1 1 1 1 1 1 1 1 1 1 1 1 1 1 1 1 1 1 1 1 1 1\n",
      " 1 1 1 1 1 1 1 1 1 1 1 1 1 1 1 1 1 1 1 0 1 1 1 1 1 1 0 1 1 1 1 0 1 1 1 1 1\n",
      " 1 1 1 1 0 1 1 1 1 1 1 1 1 1 1 1 1 1 1 1 1 1 1 1 1 1 0 1 1 1 1 1 0 1 0 1 1\n",
      " 1 1 0]\n"
     ]
    }
   ],
   "source": [
    "import hdbscan\n",
    "labels = hdbscan.HDBSCAN(\n",
    "    min_samples=10,\n",
    "    min_cluster_size=20,\n",
    ").fit_predict(embedding)\n",
    "\n",
    "print(labels)\n"
   ]
  },
  {
   "cell_type": "code",
   "execution_count": 43,
   "metadata": {
    "autoscroll": false,
    "collapsed": false,
    "ein.hycell": false,
    "ein.tags": "worksheet-0",
    "slideshow": {
     "slide_type": "-"
    }
   },
   "outputs": [],
   "source": [
    "\n",
    "reducer_1 = umap.UMAP()\n",
    "embedding_1 = reducer.fit_transform(m[labels==1])\n"
   ]
  },
  {
   "cell_type": "code",
   "execution_count": 44,
   "metadata": {
    "autoscroll": false,
    "collapsed": false,
    "ein.hycell": false,
    "ein.tags": "worksheet-0",
    "slideshow": {
     "slide_type": "-"
    }
   },
   "outputs": [
    {
     "data": {
      "text/plain": [
       "<xarray.Image (y: 400, x: 400)>\narray([[4278190080, 4278190080, 4278190080, ..., 4278190080, 4278190080,\n        4278190080],\n       [4278190080, 4278190080, 4278190080, ..., 4278190080, 4278190080,\n        4278190080],\n       [4278190080, 4278190080, 4278190080, ..., 4278190080, 4278190080,\n        4278190080],\n       ...,\n       [4278190080, 4278190080, 4278190080, ..., 4278190080, 4278190080,\n        4278190080],\n       [4278190080, 4278190080, 4278190080, ..., 4278190080, 4278190080,\n        4278190080],\n       [4278190080, 4278190080, 4278190080, ..., 4278190080, 4278190080,\n        4278190080]], dtype=uint32)\nCoordinates:\n  * y        (y) float64 -9.313 -9.295 -9.278 -9.26 -9.242 -9.224 -9.206 ...\n  * x        (x) float64 8.055 8.074 8.093 8.112 8.13 8.149 8.168 8.187 ..."
      ]
     },
     "execution_count": 44,
     "metadata": {},
     "output_type": "execute_result",
     "png": "[encoded data removed]"
    }
   ],
   "source": [
    "\n",
    "\n",
    "emb_data = {'x':embedding_1[:,0], 'y':embedding_1[:,1]}\n",
    "emb_df = pd.DataFrame(emb_data)\n",
    "\n",
    "cvs = ds.Canvas(plot_width=400, plot_height=400)\n",
    "agg = cvs.points(emb_df, 'x', 'y')\n",
    "from colorcet import fire\n",
    "img = tf.shade(agg, cmap = cm(fire,0.1), how='log')\n",
    "export(tf.spread(img, px=1),\"census_ds_fire_eq_hist\")"
   ]
  }
 ],
 "metadata": {
  "name": "tafe-analysis.ipynb"
 },
 "nbformat": 4,
 "nbformat_minor": 2
}
